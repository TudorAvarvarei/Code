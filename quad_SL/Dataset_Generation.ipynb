{
 "cells": [
  {
   "cell_type": "markdown",
   "metadata": {},
   "source": [
    "# Demonstrating the dataset generation for an ampl model\n",
    "\n",
    "This notebook shows the generation of the dataset that are subsequently used to train a neural network for optimal control."
   ]
  },
  {
   "cell_type": "markdown",
   "metadata": {},
   "source": [
    "**Load dataset**"
   ]
  },
  {
   "cell_type": "code",
   "execution_count": 1,
   "metadata": {},
   "outputs": [
    {
     "name": "stdout",
     "output_type": "stream",
     "text": [
      "Warning: could not import the Controller class. If  you need it make sure pyaudi is installed\n",
      "loading dataset...\n",
      "100000 trajectories\n"
     ]
    }
   ],
   "source": [
    "### %pylab notebook\n",
    "from pyquad.ekin import *\n",
    "\n",
    "datafile = 'datasets/hover_dataset.npz'\n",
    "a=np.load(datafile)\n",
    "\n",
    "input_labels = ['dx', 'dy', 'dz', 'vx', 'vy', 'vz', 'phi', 'theta', 'psi', 'p', 'q', 'r','omega', 'u', 'Mx_ext', 'My_ext', 'Mz_ext']\n",
    "    \n",
    "dataset = dict()\n",
    "print('loading dataset...')\n",
    "with np.load(datafile) as full_dataset:\n",
    "    # total number of trajectories\n",
    "    num = len(full_dataset['dx'])\n",
    "    steps = full_dataset['dx'].shape[1]\n",
    "    print(num, 'trajectories')\n",
    "    dataset = {key: full_dataset[key] for key in input_labels}\n",
    "\n",
    "reduced_dict = {}\n",
    "desired_rows = 10000  # Number of rows to keep (10% of 100000)\n",
    "\n",
    "for key, value in dataset.items():\n",
    "    # Assuming `value` is a NumPy array of shape (100000, 199)\n",
    "    if isinstance(value, np.ndarray):\n",
    "        # Slice the array to keep only the first `desired_rows` rows\n",
    "        if value.ndim == 2:\n",
    "            reduced_value = value[:desired_rows, :]\n",
    "        else:\n",
    "            reduced_value = value[:desired_rows]\n",
    "        reduced_dict[key] = reduced_value\n",
    "\n",
    "dataset = reduced_dict\n",
    "\n",
    "datafile_reduced = 'datasets/hover_dataset_reduced.npz'\n",
    "\n",
    "np.savez_compressed(datafile_reduced, **dataset)"
   ]
  },
  {
   "cell_type": "markdown",
   "metadata": {},
   "source": [
    "**View trajectories**"
   ]
  },
  {
   "cell_type": "code",
   "execution_count": 2,
   "metadata": {},
   "outputs": [],
   "source": [
    "def transform_back(dx,dy,dz,vx,vy,vz,phi,theta,psi):\n",
    "    Rx = np.array([\n",
    "        [1, 0, 0],\n",
    "        [0, np.cos(phi), -np.sin(phi)],\n",
    "        [0, np.sin(phi), np.cos(phi)]\n",
    "    ])\n",
    "    Ry = np.array([\n",
    "        [np.cos(theta), 0, np.sin(theta)],\n",
    "        [0, 1, 0],\n",
    "        [-np.sin(theta), 0, np.cos(theta)]\n",
    "    ])\n",
    "    Rz = np.array([\n",
    "        [np.cos(psi), -np.sin(psi), 0],\n",
    "        [np.sin(psi), np.cos(psi), 0],\n",
    "        [0, 0, 1]\n",
    "    ])\n",
    "    R = Rz@Ry@Rx\n",
    "    x_new, y_new, z_new = -R@[dx, dy, dz]\n",
    "    vx_new, vy_new, vz_new = R@[vx, vy, vz]\n",
    "    return x_new, y_new, z_new, vx_new, vy_new, vz_new, phi, theta, psi"
   ]
  },
  {
   "cell_type": "code",
   "execution_count": 5,
   "metadata": {
    "scrolled": true
   },
   "outputs": [
    {
     "name": "stdout",
     "output_type": "stream",
     "text": [
      "100000\n"
     ]
    }
   ],
   "source": [
    "%matplotlib widget\n",
    "a = np.load(datafile)\n",
    "num = a['dx'].shape[0]\n",
    "print(num)\n",
    "\n",
    "t,dx,dy,dz,vx,vy,vz,phi,theta,psi,u = (a[key][10000:10001] for key in 't dx dy dz vx vy vz phi theta psi u'.split(' '))"
   ]
  },
  {
   "cell_type": "code",
   "execution_count": 8,
   "metadata": {},
   "outputs": [],
   "source": [
    "from quadcopter_animation import animation\n",
    "import importlib\n",
    "importlib.reload(animation)\n",
    "\n",
    "x,y,z,vx,vy,vz,phi,theta,psi = np.vectorize(transform_back)(dx,dy,dz,vx,vy,vz,phi,theta,psi)\n",
    "# t,x,y,z,vx,vy,vz,phi,theta,psi,u = (a[key] for key in 't x y z vx vy vz phi theta psi u'.split(' '))\n",
    "\n",
    "animation.animate(t, x, y, z, phi, theta, psi, u, multiple_trajectories=True, simultaneous=False, step=1, waypoints=[np.array([0,0,0])], colors=[(255,0,0)]*100)"
   ]
  },
  {
   "cell_type": "code",
   "execution_count": null,
   "metadata": {},
   "outputs": [],
   "source": []
  }
 ],
 "metadata": {
  "kernelspec": {
   "display_name": "Python 3 (ipykernel)",
   "language": "python",
   "name": "python3"
  },
  "language_info": {
   "codemirror_mode": {
    "name": "ipython",
    "version": 3
   },
   "file_extension": ".py",
   "mimetype": "text/x-python",
   "name": "python",
   "nbconvert_exporter": "python",
   "pygments_lexer": "ipython3",
   "version": "3.9.12"
  }
 },
 "nbformat": 4,
 "nbformat_minor": 2
}
